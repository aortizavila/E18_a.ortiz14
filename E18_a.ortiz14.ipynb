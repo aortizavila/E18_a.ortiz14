{
 "cells": [
  {
   "cell_type": "markdown",
   "metadata": {},
   "source": [
    "# Exercise 18\n",
    "\n",
    "## Analyze class homeworks\n"
   ]
  },
  {
   "cell_type": "code",
   "execution_count": 1,
   "metadata": {},
   "outputs": [
    {
     "data": {
      "text/html": [
       "<div>\n",
       "<style scoped>\n",
       "    .dataframe tbody tr th:only-of-type {\n",
       "        vertical-align: middle;\n",
       "    }\n",
       "\n",
       "    .dataframe tbody tr th {\n",
       "        vertical-align: top;\n",
       "    }\n",
       "\n",
       "    .dataframe thead th {\n",
       "        text-align: right;\n",
       "    }\n",
       "</style>\n",
       "<table border=\"1\" class=\"dataframe\">\n",
       "  <thead>\n",
       "    <tr style=\"text-align: right;\">\n",
       "      <th></th>\n",
       "      <th>Sexo</th>\n",
       "      <th>T1</th>\n",
       "      <th>T2</th>\n",
       "      <th>T3</th>\n",
       "      <th>T4</th>\n",
       "      <th>T5</th>\n",
       "      <th>T6</th>\n",
       "    </tr>\n",
       "  </thead>\n",
       "  <tbody>\n",
       "    <tr>\n",
       "      <th>0</th>\n",
       "      <td>H</td>\n",
       "      <td>Un científico de datos y un ingeniero de datos...</td>\n",
       "      <td>NaN</td>\n",
       "      <td>Los árboles de decisión es uno de los algoritm...</td>\n",
       "      <td>NaN</td>\n",
       "      <td>En el documento \"Do We Need Hundreds of Classi...</td>\n",
       "      <td>Boosting builds models from individual so call...</td>\n",
       "    </tr>\n",
       "    <tr>\n",
       "      <th>1</th>\n",
       "      <td>H</td>\n",
       "      <td>Aunque los dos perfiles cuentan con habilidade...</td>\n",
       "      <td>Aunque el conceso no es total en el tema de ma...</td>\n",
       "      <td>NaN</td>\n",
       "      <td>En Machine Learing el propósito de los métodos...</td>\n",
       "      <td>El paper publicado en 2014 hace una evaluación...</td>\n",
       "      <td>Gradient Boosting ClassifierGradient Boosting ...</td>\n",
       "    </tr>\n",
       "    <tr>\n",
       "      <th>2</th>\n",
       "      <td>H</td>\n",
       "      <td>Python vs Stata. Analizar información es un pr...</td>\n",
       "      <td>En el marco del Machine Learning encontramos c...</td>\n",
       "      <td>Árbol de clasificación Como su nombre lo indic...</td>\n",
       "      <td>Este es un mecanismo que utiliza varios algori...</td>\n",
       "      <td>El paper analiza 179 clasificadores de 17 dife...</td>\n",
       "      <td>Gradient Boosting Classifier busca aprender de...</td>\n",
       "    </tr>\n",
       "    <tr>\n",
       "      <th>3</th>\n",
       "      <td>M</td>\n",
       "      <td>Los algoritmos de machine learning buscan pred...</td>\n",
       "      <td>Los algoritmos de machine learning buscan pred...</td>\n",
       "      <td>Los arboles de decisión pertenecen a los algor...</td>\n",
       "      <td>Consideremos el siguiente ejemplo: Una persona...</td>\n",
       "      <td>¿Se necesitan cientos de modelos para resolver...</td>\n",
       "      <td>NaN</td>\n",
       "    </tr>\n",
       "    <tr>\n",
       "      <th>4</th>\n",
       "      <td>H</td>\n",
       "      <td>Python vs R para análisis de datos. A pesar de...</td>\n",
       "      <td>Tipos de aprendizaje en Machine Learning. El M...</td>\n",
       "      <td>Tipos de árboles de decisión y aplicaciones. U...</td>\n",
       "      <td>La combinación de modelos o ensemble es un mod...</td>\n",
       "      <td>En el articulo se analizan cerca de 180 clasif...</td>\n",
       "      <td>XGBoosting vs GBoosting. A pesar de que el alg...</td>\n",
       "    </tr>\n",
       "  </tbody>\n",
       "</table>\n",
       "</div>"
      ],
      "text/plain": [
       "  Sexo                                                 T1  \\\n",
       "0    H  Un científico de datos y un ingeniero de datos...   \n",
       "1    H  Aunque los dos perfiles cuentan con habilidade...   \n",
       "2    H  Python vs Stata. Analizar información es un pr...   \n",
       "3    M  Los algoritmos de machine learning buscan pred...   \n",
       "4    H  Python vs R para análisis de datos. A pesar de...   \n",
       "\n",
       "                                                  T2  \\\n",
       "0                                                NaN   \n",
       "1  Aunque el conceso no es total en el tema de ma...   \n",
       "2  En el marco del Machine Learning encontramos c...   \n",
       "3  Los algoritmos de machine learning buscan pred...   \n",
       "4  Tipos de aprendizaje en Machine Learning. El M...   \n",
       "\n",
       "                                                  T3  \\\n",
       "0  Los árboles de decisión es uno de los algoritm...   \n",
       "1                                                NaN   \n",
       "2  Árbol de clasificación Como su nombre lo indic...   \n",
       "3  Los arboles de decisión pertenecen a los algor...   \n",
       "4  Tipos de árboles de decisión y aplicaciones. U...   \n",
       "\n",
       "                                                  T4  \\\n",
       "0                                                NaN   \n",
       "1  En Machine Learing el propósito de los métodos...   \n",
       "2  Este es un mecanismo que utiliza varios algori...   \n",
       "3  Consideremos el siguiente ejemplo: Una persona...   \n",
       "4  La combinación de modelos o ensemble es un mod...   \n",
       "\n",
       "                                                  T5  \\\n",
       "0  En el documento \"Do We Need Hundreds of Classi...   \n",
       "1  El paper publicado en 2014 hace una evaluación...   \n",
       "2  El paper analiza 179 clasificadores de 17 dife...   \n",
       "3  ¿Se necesitan cientos de modelos para resolver...   \n",
       "4  En el articulo se analizan cerca de 180 clasif...   \n",
       "\n",
       "                                                  T6  \n",
       "0  Boosting builds models from individual so call...  \n",
       "1  Gradient Boosting ClassifierGradient Boosting ...  \n",
       "2  Gradient Boosting Classifier busca aprender de...  \n",
       "3                                                NaN  \n",
       "4  XGBoosting vs GBoosting. A pesar de que el alg...  "
      ]
     },
     "execution_count": 1,
     "metadata": {},
     "output_type": "execute_result"
    }
   ],
   "source": [
    "import pandas as pd\n",
    "import numpy as np\n",
    "import pandas as pd\n",
    "import numpy as np\n",
    "import scipy as sp\n",
    "from sklearn.model_selection import train_test_split, cross_val_score\n",
    "from sklearn.feature_extraction.text import CountVectorizer, TfidfVectorizer\n",
    "from sklearn.naive_bayes import MultinomialNB\n",
    "from sklearn.linear_model import LogisticRegression\n",
    "from sklearn import metrics\n",
    "# from textblob import TextBlob, Word\n",
    "from nltk.stem.snowball import SnowballStemmer\n",
    "%matplotlib inline\n",
    "%matplotlib inline\n",
    "import matplotlib.pyplot as plt\n",
    "from sklearn.feature_extraction.text import TfidfTransformer\n",
    "from imblearn.over_sampling import RandomOverSampler\n",
    "data = pd.read_excel('E18.xlsx')\n",
    "data.head()"
   ]
  },
  {
   "cell_type": "markdown",
   "metadata": {},
   "source": [
    "# Exercise 18.1\n",
    "\n",
    "Analyze the writing patterns of each student"
   ]
  },
  {
   "cell_type": "code",
   "execution_count": 3,
   "metadata": {},
   "outputs": [
    {
     "data": {
      "text/html": [
       "<div>\n",
       "<style scoped>\n",
       "    .dataframe tbody tr th:only-of-type {\n",
       "        vertical-align: middle;\n",
       "    }\n",
       "\n",
       "    .dataframe tbody tr th {\n",
       "        vertical-align: top;\n",
       "    }\n",
       "\n",
       "    .dataframe thead th {\n",
       "        text-align: right;\n",
       "    }\n",
       "</style>\n",
       "<table border=\"1\" class=\"dataframe\">\n",
       "  <thead>\n",
       "    <tr style=\"text-align: right;\">\n",
       "      <th></th>\n",
       "      <th>0</th>\n",
       "      <th>1</th>\n",
       "      <th>2</th>\n",
       "      <th>3</th>\n",
       "      <th>4</th>\n",
       "      <th>5</th>\n",
       "      <th>6</th>\n",
       "      <th>7</th>\n",
       "      <th>8</th>\n",
       "      <th>9</th>\n",
       "      <th>...</th>\n",
       "      <th>390</th>\n",
       "      <th>391</th>\n",
       "      <th>392</th>\n",
       "      <th>393</th>\n",
       "      <th>394</th>\n",
       "      <th>395</th>\n",
       "      <th>396</th>\n",
       "      <th>397</th>\n",
       "      <th>398</th>\n",
       "      <th>399</th>\n",
       "    </tr>\n",
       "  </thead>\n",
       "  <tbody>\n",
       "    <tr>\n",
       "      <th>0</th>\n",
       "      <td>último</td>\n",
       "      <td>óptimo</td>\n",
       "      <td>índice</td>\n",
       "      <td>áreas</td>\n",
       "      <td>árboles</td>\n",
       "      <td>árbol</td>\n",
       "      <td>ya</td>\n",
       "      <td>xgboost</td>\n",
       "      <td>wrong</td>\n",
       "      <td>world</td>\n",
       "      <td>...</td>\n",
       "      <td>aquellos</td>\n",
       "      <td>aprendizaje</td>\n",
       "      <td>análisis</td>\n",
       "      <td>anuales</td>\n",
       "      <td>and</td>\n",
       "      <td>algoritmos</td>\n",
       "      <td>aleatorios</td>\n",
       "      <td>al</td>\n",
       "      <td>además</td>\n",
       "      <td>acuerdo</td>\n",
       "    </tr>\n",
       "    <tr>\n",
       "      <th>1</th>\n",
       "      <td>éxito</td>\n",
       "      <td>áreas</td>\n",
       "      <td>árboles</td>\n",
       "      <td>árbol</td>\n",
       "      <td>ya</td>\n",
       "      <td>xgboost</td>\n",
       "      <td>weka</td>\n",
       "      <td>volúmenes</td>\n",
       "      <td>vida</td>\n",
       "      <td>versiones</td>\n",
       "      <td>...</td>\n",
       "      <td>actividad</td>\n",
       "      <td>abordar</td>\n",
       "      <td>94</td>\n",
       "      <td>93</td>\n",
       "      <td>92</td>\n",
       "      <td>2014</td>\n",
       "      <td>20</td>\n",
       "      <td>179</td>\n",
       "      <td>17</td>\n",
       "      <td>121</td>\n",
       "    </tr>\n",
       "    <tr>\n",
       "      <th>2</th>\n",
       "      <td>árboles</td>\n",
       "      <td>árbol</td>\n",
       "      <td>yace</td>\n",
       "      <td>ya</td>\n",
       "      <td>xgboost</td>\n",
       "      <td>vs</td>\n",
       "      <td>volúmenes</td>\n",
       "      <td>volúmen</td>\n",
       "      <td>vez</td>\n",
       "      <td>ver</td>\n",
       "      <td>...</td>\n",
       "      <td>algoritmo</td>\n",
       "      <td>al</td>\n",
       "      <td>ajuste</td>\n",
       "      <td>ajustar</td>\n",
       "      <td>adicionando</td>\n",
       "      <td>adicional</td>\n",
       "      <td>además</td>\n",
       "      <td>adecuados</td>\n",
       "      <td>aclaran</td>\n",
       "      <td>121</td>\n",
       "    </tr>\n",
       "    <tr>\n",
       "      <th>3</th>\n",
       "      <td>último</td>\n",
       "      <td>áreas</td>\n",
       "      <td>árbol</td>\n",
       "      <td>ya</td>\n",
       "      <td>vuelve</td>\n",
       "      <td>vida</td>\n",
       "      <td>vez</td>\n",
       "      <td>ventajas</td>\n",
       "      <td>ventaja</td>\n",
       "      <td>varios</td>\n",
       "      <td>...</td>\n",
       "      <td>alcanzar</td>\n",
       "      <td>alcanzable</td>\n",
       "      <td>al</td>\n",
       "      <td>ajustar</td>\n",
       "      <td>adquirir</td>\n",
       "      <td>además</td>\n",
       "      <td>adecuada</td>\n",
       "      <td>acuerdo</td>\n",
       "      <td>accuracy</td>\n",
       "      <td>94</td>\n",
       "    </tr>\n",
       "    <tr>\n",
       "      <th>4</th>\n",
       "      <td>árboles</td>\n",
       "      <td>árbol</td>\n",
       "      <td>ya</td>\n",
       "      <td>xgboosting</td>\n",
       "      <td>xgboost</td>\n",
       "      <td>web</td>\n",
       "      <td>vs</td>\n",
       "      <td>voto</td>\n",
       "      <td>versátil</td>\n",
       "      <td>ventajas</td>\n",
       "      <td>...</td>\n",
       "      <td>algunos</td>\n",
       "      <td>algunas</td>\n",
       "      <td>alguna</td>\n",
       "      <td>algoritmos</td>\n",
       "      <td>algoritmo</td>\n",
       "      <td>aleatorización</td>\n",
       "      <td>al</td>\n",
       "      <td>además</td>\n",
       "      <td>acuerdo</td>\n",
       "      <td>180</td>\n",
       "    </tr>\n",
       "  </tbody>\n",
       "</table>\n",
       "<p>5 rows × 400 columns</p>\n",
       "</div>"
      ],
      "text/plain": [
       "       0       1        2           3        4        5          6    \\\n",
       "0   último  óptimo   índice       áreas  árboles    árbol         ya   \n",
       "1    éxito   áreas  árboles       árbol       ya  xgboost       weka   \n",
       "2  árboles   árbol     yace          ya  xgboost       vs  volúmenes   \n",
       "3   último   áreas    árbol          ya   vuelve     vida        vez   \n",
       "4  árboles   árbol       ya  xgboosting  xgboost      web         vs   \n",
       "\n",
       "         7         8          9     ...           390          391       392  \\\n",
       "0    xgboost     wrong      world   ...      aquellos  aprendizaje  análisis   \n",
       "1  volúmenes      vida  versiones   ...     actividad      abordar        94   \n",
       "2    volúmen       vez        ver   ...     algoritmo           al    ajuste   \n",
       "3   ventajas   ventaja     varios   ...      alcanzar   alcanzable        al   \n",
       "4       voto  versátil   ventajas   ...       algunos      algunas    alguna   \n",
       "\n",
       "          393          394             395         396        397       398  \\\n",
       "0     anuales          and      algoritmos  aleatorios         al    además   \n",
       "1          93           92            2014          20        179        17   \n",
       "2     ajustar  adicionando       adicional      además  adecuados   aclaran   \n",
       "3     ajustar     adquirir          además    adecuada    acuerdo  accuracy   \n",
       "4  algoritmos    algoritmo  aleatorización          al     además   acuerdo   \n",
       "\n",
       "       399  \n",
       "0  acuerdo  \n",
       "1      121  \n",
       "2      121  \n",
       "3       94  \n",
       "4      180  \n",
       "\n",
       "[5 rows x 400 columns]"
      ]
     },
     "execution_count": 3,
     "metadata": {},
     "output_type": "execute_result"
    }
   ],
   "source": [
    "palabras=[]\n",
    "palabras2=[]\n",
    "data.fillna(' ', inplace=True) \n",
    "X=data.iloc[:,1]+data.iloc[:,2]+data.iloc[:,3]+data.iloc[:,4]+data.iloc[:,5]+data.iloc[:,6]\n",
    "for i in range(0,data.shape[0]):\n",
    "    #print(i)\n",
    "    vect = CountVectorizer(max_features=400)\n",
    "    X_dtm = vect.fit_transform(X.iloc[i:i+1])\n",
    "    palabras.append(vect.vocabulary_)\n",
    "    palabras2.append(pd.DataFrame(sorted(palabras[i].items(),reverse=True)).iloc[:,0])\n",
    "    \n",
    "freqs=pd.DataFrame(palabras2)\n",
    "freqs.reset_index(inplace=True)\n",
    "freqs.drop('index',axis=1).head() ##palabras mas comunes para los 5 primeros estudiantes."
   ]
  },
  {
   "cell_type": "markdown",
   "metadata": {},
   "source": [
    "# Exercise 18.2\n",
    "\n",
    "Evaluate the similarities of the homeworks of the students\n",
    "\n",
    "tip: https://github.com/orsinium/textdistance"
   ]
  },
  {
   "cell_type": "code",
   "execution_count": 4,
   "metadata": {},
   "outputs": [
    {
     "name": "stdout",
     "output_type": "stream",
     "text": [
      "[[1.         0.27684427 0.27535643 ... 0.28038272 0.2909937  0.30521952]\n",
      " [0.27684427 1.         0.40235459 ... 0.41936164 0.42516558 0.44260456]\n",
      " [0.27535643 0.40235459 1.         ... 0.42849695 0.44662757 0.43997382]\n",
      " ...\n",
      " [0.28038272 0.41936164 0.42849695 ... 1.         0.45115084 0.46536208]\n",
      " [0.2909937  0.42516558 0.44662757 ... 0.45115084 1.         0.48198886]\n",
      " [0.30521952 0.44260456 0.43997382 ... 0.46536208 0.48198886 1.        ]]\n"
     ]
    }
   ],
   "source": [
    "vect = TfidfVectorizer()\n",
    "dtm = vect.fit_transform(X)\n",
    "\n",
    "tfidfTran = TfidfTransformer(norm=\"l2\")\n",
    "tfidfTran.fit(dtm)\n",
    "\n",
    "tfidf_matrix = tfidfTran.transform(dtm)\n",
    "\n",
    "cos_similarity_matrix = (tfidf_matrix * tfidf_matrix.T).toarray()\n",
    "print(cos_similarity_matrix)"
   ]
  },
  {
   "cell_type": "markdown",
   "metadata": {},
   "source": [
    "# Exercise 18.3\n",
    "\n",
    "Create a classifier to predict the sex of each student\n",
    "\n"
   ]
  },
  {
   "cell_type": "markdown",
   "metadata": {},
   "source": [
    "# # Selección de variables"
   ]
  },
  {
   "cell_type": "code",
   "execution_count": 5,
   "metadata": {},
   "outputs": [
    {
     "data": {
      "text/plain": [
       "(1, 400)"
      ]
     },
     "execution_count": 5,
     "metadata": {},
     "output_type": "execute_result"
    }
   ],
   "source": [
    "y=data['Sexo']\n",
    "y.shape\n",
    "X_dtm.shape"
   ]
  },
  {
   "cell_type": "markdown",
   "metadata": {},
   "source": [
    "# # Tratamiento de datos"
   ]
  },
  {
   "cell_type": "code",
   "execution_count": 6,
   "metadata": {},
   "outputs": [],
   "source": [
    "vect = CountVectorizer()\n",
    "X_dtm = vect.fit_transform(X)\n",
    "X_train, X_test, y_train, y_test = train_test_split(X_dtm, y, test_size=0.33, random_state=23)"
   ]
  },
  {
   "cell_type": "code",
   "execution_count": 7,
   "metadata": {},
   "outputs": [],
   "source": [
    "ros = RandomOverSampler(random_state=0)\n",
    "X_resampled, y_resampled = ros.fit_resample(X_train,y_train)"
   ]
  },
  {
   "cell_type": "markdown",
   "metadata": {},
   "source": [
    "## Modelo"
   ]
  },
  {
   "cell_type": "code",
   "execution_count": 8,
   "metadata": {},
   "outputs": [
    {
     "name": "stderr",
     "output_type": "stream",
     "text": [
      "/sysroot/home/asuspc/anaconda3/lib/python3.7/site-packages/sklearn/svm/base.py:196: FutureWarning: The default value of gamma will change from 'auto' to 'scale' in version 0.22 to account better for unscaled features. Set gamma explicitly to 'auto' or 'scale' to avoid this warning.\n",
      "  \"avoid this warning.\", FutureWarning)\n"
     ]
    },
    {
     "data": {
      "text/plain": [
       "SVC(C=1.0, cache_size=200, class_weight=None, coef0=0.0,\n",
       "  decision_function_shape='ovr', degree=3, gamma='auto_deprecated',\n",
       "  kernel='rbf', max_iter=-1, probability=True, random_state=None,\n",
       "  shrinking=True, tol=0.001, verbose=False)"
      ]
     },
     "execution_count": 8,
     "metadata": {},
     "output_type": "execute_result"
    }
   ],
   "source": [
    "from sklearn.svm import SVC # \"Support Vector Classifier\"\n",
    "clf0 = SVC(kernel='rbf',probability=True)\n",
    "clf0.fit(X_resampled,y_resampled) "
   ]
  },
  {
   "cell_type": "code",
   "execution_count": 9,
   "metadata": {},
   "outputs": [
    {
     "name": "stdout",
     "output_type": "stream",
     "text": [
      "El accuracy es:  0.86\n"
     ]
    }
   ],
   "source": [
    "from sklearn.metrics import r2_score, roc_auc_score\n",
    "y_pred = clf0.predict(X_test)\n",
    "print(\"El accuracy es: \", round(metrics.accuracy_score(y_test, y_pred),2))"
   ]
  },
  {
   "cell_type": "code",
   "execution_count": null,
   "metadata": {},
   "outputs": [],
   "source": []
  }
 ],
 "metadata": {
  "kernelspec": {
   "display_name": "Python 3",
   "language": "python",
   "name": "python3"
  },
  "language_info": {
   "codemirror_mode": {
    "name": "ipython",
    "version": 3
   },
   "file_extension": ".py",
   "mimetype": "text/x-python",
   "name": "python",
   "nbconvert_exporter": "python",
   "pygments_lexer": "ipython3",
   "version": "3.7.1"
  }
 },
 "nbformat": 4,
 "nbformat_minor": 2
}
